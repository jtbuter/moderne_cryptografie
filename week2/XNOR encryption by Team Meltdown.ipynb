{
 "cells": [
  {
   "cell_type": "code",
   "execution_count": null,
   "metadata": {},
   "outputs": [],
   "source": [
    "import random\n",
    "\n",
    "target = 'plaintext.txt'\n",
    "KEY_LENGTH = 6\n",
    "KEY = random.sample(range(256), KEY_LENGTH)"
   ]
  },
  {
   "cell_type": "code",
   "execution_count": null,
   "metadata": {},
   "outputs": [],
   "source": [
    "\"\"\"\n",
    "XNOR encryption works as follows; 00000001 XNOR 00000001 == 11111111.\n",
    "This can by accomplished by using the XOR operation:\n",
    "1111111 XOR (00000001 XOR 00000001) == 11111111\n",
    "\"\"\"\n",
    "def xnor(x, y):\n",
    "    return 255 ^ (x ^ y)\n",
    "    \n",
    "\"\"\"\n",
    "Encrypts a plain text string of ascii characters to\n",
    "a cipher text string of hexadecimal characters.\n",
    "\"\"\"\n",
    "def encrypt(plain):\n",
    "    cipher = ''\n",
    "\n",
    "    for i, c in enumerate(plain):\n",
    "        cipher += '{0:02x}'.format(xnor(ord(c), KEY[i % KEY_LENGTH]))\n",
    "        \n",
    "    return cipher"
   ]
  },
  {
   "cell_type": "code",
   "execution_count": null,
   "metadata": {},
   "outputs": [],
   "source": [
    "\"\"\"\n",
    "Decrypts a cipher text string of hexadecimal characters to\n",
    "a plain text string of ascii characters.\n",
    "\"\"\"\n",
    "def decrypt(cipher):\n",
    "    cipher = bytes.fromhex(cipher)\n",
    "    plain = ''\n",
    "\n",
    "    for i, c in enumerate(cipher):\n",
    "        plain += chr(xnor(c, KEY[i % KEY_LENGTH]))\n",
    "        \n",
    "    return plain"
   ]
  },
  {
   "cell_type": "code",
   "execution_count": null,
   "metadata": {},
   "outputs": [],
   "source": [
    "plain = ''.join(open(target, 'r').read().splitlines())\n",
    "\n",
    "if decrypt(encrypt(plain)) != plain:\n",
    "    raise Exception(\"Does not satisfy correctness property\")"
   ]
  }
 ],
 "metadata": {
  "kernelspec": {
   "display_name": "Python 3",
   "language": "python",
   "name": "python3"
  },
  "language_info": {
   "codemirror_mode": {
    "name": "ipython",
    "version": 3
   },
   "file_extension": ".py",
   "mimetype": "text/x-python",
   "name": "python",
   "nbconvert_exporter": "python",
   "pygments_lexer": "ipython3",
   "version": "3.8.0"
  }
 },
 "nbformat": 4,
 "nbformat_minor": 4
}
