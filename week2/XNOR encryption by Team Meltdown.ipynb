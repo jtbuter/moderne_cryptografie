{
 "cells": [
  {
   "cell_type": "code",
   "execution_count": 1,
   "metadata": {},
   "outputs": [],
   "source": [
    "import random\n",
    "\n",
    "target = 'message.txt'\n",
    "KEY_LENGTH = 6\n",
    "KEY = random.sample(range(256), KEY_LENGTH)"
   ]
  },
  {
   "cell_type": "code",
   "execution_count": 2,
   "metadata": {},
   "outputs": [],
   "source": [
    "\"\"\"\n",
    "XNOR encryption works as follows; 00000001 XNOR 00000001 == 11111111.\n",
    "This can by accomplished by using the XOR operation:\n",
    "1111111 XOR (00000001 XOR 00000001) == 11111111\n",
    "\"\"\"\n",
    "def xnor(x, y):\n",
    "    return 255 ^ (x ^ y)\n",
    "    \n",
    "\"\"\"\n",
    "Encrypts a plain text string of ascii characters to\n",
    "a cipher text string of hexadecimal characters.\n",
    "\"\"\"\n",
    "def encrypt(plain):\n",
    "    cipher = ''\n",
    "\n",
    "    for i, c in enumerate(plain):\n",
    "        cipher += '{0:02x}'.format(xnor(ord(c), KEY[i % KEY_LENGTH]))\n",
    "        \n",
    "    return cipher"
   ]
  },
  {
   "cell_type": "code",
   "execution_count": 6,
   "metadata": {},
   "outputs": [],
   "source": [
    "\"\"\"\n",
    "Decrypts a cipher text string of hexadecimal characters to\n",
    "a plain text string of ascii characters.\n",
    "\"\"\"\n",
    "def decrypt(cipher):\n",
    "    cipher = bytes.fromhex(cipher)\n",
    "    plain = ''\n",
    "\n",
    "    for i, c in enumerate(cipher):\n",
    "        plain += chr(xnor(c, KEY[i % KEY_LENGTH]))\n",
    "        \n",
    "    return plain"
   ]
  },
  {
   "cell_type": "code",
   "execution_count": 8,
   "metadata": {},
   "outputs": [
    {
     "name": "stdout",
     "output_type": "stream",
     "text": [
      "1154e54973217774b74d6666321de24a292d0355f2542b2d1e1df05f732d334ff24974683313b773277a3651fc1a7362774ef45268623b13b7732769381df955732d2554f35f276c775ffe5162237774b75e682d3952e31a75643358b74e6f68775fe249292d1e1dfb536c687749f81a60627749f81a746e3f52f856292d1e49b7486664394eb91a4e2d3352b75468797751fe51622d255cfe54292d1e1df25b732d3b48f9596f237774b75f6679775cb7496663334afe596f2d3653f31a6663775ce74a6b68791dde1a77613644b75572792454f35f292d1e1dfb536c687749f81a77613644b91a4e2d2558f65e276c775ff8556c237774b7566e66321de355277f325cf31a65623856e4142744774af6566c2d3f52fa5f292d1e1df35527633849b7566e66321de05b6b663e53f01a6f623a58b91a4a747750f84e6f68251df4556866241de455727d775bf84827693e53f95f75237769ff5f277e3848e71a6e7e7755f84e292d0355f2542b2d1e1df0552779381df55f63237774b75e682d3952e31a6b643c58b74e682d3052b74e682d3558f314\n",
      "\n",
      "First, I wake up. Then, I get dressed. I walk to school. I do not ride a bike. I do not ride the bus. I like to go to school. It rains. I do not like rain. I eat lunch. I eat a sandwich and an apple. I play outside. I like to play. I read a book. I like to read books. I walk home. I do not like walking home. My mother cooks soup for dinner. The soup is hot. Then, I go to bed. I do not like to go to bed.\n"
     ]
    }
   ],
   "source": [
    "plain = ''.join(open(target, 'r').read().splitlines())\n",
    "\n",
    "if decrypt(encrypt(plain)) != plain:\n",
    "    raise Exception(\"Does not satisfy correctness property\")"
   ]
  },
  {
   "cell_type": "code",
   "execution_count": null,
   "metadata": {},
   "outputs": [],
   "source": []
  }
 ],
 "metadata": {
  "kernelspec": {
   "display_name": "Python 3",
   "language": "python",
   "name": "python3"
  },
  "language_info": {
   "codemirror_mode": {
    "name": "ipython",
    "version": 3
   },
   "file_extension": ".py",
   "mimetype": "text/x-python",
   "name": "python",
   "nbconvert_exporter": "python",
   "pygments_lexer": "ipython3",
   "version": "3.8.0"
  }
 },
 "nbformat": 4,
 "nbformat_minor": 4
}
